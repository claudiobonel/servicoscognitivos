{
 "cells": [
  {
   "cell_type": "code",
   "execution_count": 15,
   "metadata": {},
   "outputs": [],
   "source": [
    "import time \n",
    "import urllib\n",
    "import requests\n",
    "import operator\n",
    "import numpy as np\n",
    "import json\n",
    "from IPython.display import Image as ipImage, display\n",
    "from __future__ import print_function\n",
    "import matplotlib.pyplot as plt\n",
    "%matplotlib inline \n",
    "\n",
    "_url = 'https://southcentralus.api.cognitive.microsoft.com/customvision/v2.0/Prediction/a6fb26d9-01bc-4999-aea1-eb4bfb513148/url?'\n",
    "_iterationId = '74c1f0c3-3095-4386-aba3-0fcd3e932fd8'\n",
    "_key = '4b3de28d2ff44e90a02c49efee2e635c'"
   ]
  },
  {
   "cell_type": "code",
   "execution_count": 16,
   "metadata": {},
   "outputs": [],
   "source": [
    "def processRequest( json, data, headers, params ):\n",
    "\n",
    "    retries = 0\n",
    "    result = None\n",
    "\n",
    "    while True:\n",
    "\n",
    "        response = requests.request( 'post', _url, json = json, data = data, headers = headers, params = params )\n",
    "\n",
    "        if response.status_code == 429: \n",
    "\n",
    "            print( \"Message: %s\" % ( response.json()['error']['message'] ) )\n",
    "\n",
    "            if retries <= _maxNumRetries: \n",
    "                time.sleep(1) \n",
    "                retries += 1\n",
    "                continue\n",
    "            else: \n",
    "                print( 'Error: failed after retrying!' )\n",
    "                break\n",
    "\n",
    "        elif response.status_code == 200 or response.status_code == 201:\n",
    "\n",
    "            if 'content-length' in response.headers and int(response.headers['content-length']) == 0: \n",
    "                result = None \n",
    "            elif 'content-type' in response.headers and isinstance(response.headers['content-type'], str): \n",
    "                if 'application/json' in response.headers['content-type'].lower(): \n",
    "                    result = response.json() if response.content else None \n",
    "                elif 'image' in response.headers['content-type'].lower(): \n",
    "                    result = response.content\n",
    "        else:\n",
    "            print( \"Error code: %d\" % ( response.status_code ) )\n",
    "            print( \"Message: %s\" % ( response.json()['error']['message'] ) )\n",
    "\n",
    "        break\n",
    "        \n",
    "    return result"
   ]
  },
  {
   "cell_type": "code",
   "execution_count": 17,
   "metadata": {},
   "outputs": [],
   "source": [
    "def prediction( url ):\n",
    "    headers = dict()\n",
    "    headers['Prediction-key'] = _key\n",
    "    headers['Content-Type'] = 'application/json' \n",
    "\n",
    "    json = { 'url': url } \n",
    "    data = None\n",
    "\n",
    "    params = urllib.parse.urlencode({\n",
    "        'iterationId': _iterationId,\n",
    "    })\n",
    "\n",
    "    result = processRequest( json, data, headers, params )\n",
    "    \n",
    "    return result"
   ]
  },
  {
   "cell_type": "code",
   "execution_count": 18,
   "metadata": {},
   "outputs": [
    {
     "data": {
      "text/html": [
       "<img src=\"http://dadoteca.com.br/arquivos/m1.jpg\" width=\"400\" height=\"400\"/>"
      ],
      "text/plain": [
       "<IPython.core.display.Image object>"
      ]
     },
     "metadata": {},
     "output_type": "display_data"
    }
   ],
   "source": [
    "urlImage = 'http://dadoteca.com.br/arquivos/m1.jpg'\n",
    "img = ipImage(url=urlImage, width=400, height=400)\n",
    "display(img)\n",
    "\n",
    "p1 = prediction(urlImage)"
   ]
  },
  {
   "cell_type": "code",
   "execution_count": 19,
   "metadata": {},
   "outputs": [
    {
     "name": "stdout",
     "output_type": "stream",
     "text": [
      "{\n",
      "  \"created\": \"2018-06-21T18:44:20.0743059Z\",\n",
      "  \"id\": \"65b4bc5a-de25-493a-8b95-343b60d3a94d\",\n",
      "  \"iteration\": \"74c1f0c3-3095-4386-aba3-0fcd3e932fd8\",\n",
      "  \"predictions\": [\n",
      "    {\n",
      "      \"probability\": 0.9979067,\n",
      "      \"tagId\": \"e3ed9cf5-600b-4ac2-9dbc-3e29bae5625c\",\n",
      "      \"tagName\": \"Moto\"\n",
      "    },\n",
      "    {\n",
      "      \"probability\": 0.00133252947,\n",
      "      \"tagId\": \"c3505cfb-5e0e-42f6-9d63-93fc1ce58aaa\",\n",
      "      \"tagName\": \"Aviao\"\n",
      "    },\n",
      "    {\n",
      "      \"probability\": 0.000919278653,\n",
      "      \"tagId\": \"b75a8e78-7de4-47c0-9c37-37ea12e015f0\",\n",
      "      \"tagName\": \"Carro\"\n",
      "    }\n",
      "  ],\n",
      "  \"project\": \"a6fb26d9-01bc-4999-aea1-eb4bfb513148\"\n",
      "}\n"
     ]
    }
   ],
   "source": [
    "print(json.dumps(p1, indent=2, sort_keys=True))"
   ]
  },
  {
   "cell_type": "code",
   "execution_count": null,
   "metadata": {},
   "outputs": [],
   "source": []
  }
 ],
 "metadata": {
  "kernelspec": {
   "display_name": "Python 3",
   "language": "python",
   "name": "python3"
  },
  "language_info": {
   "codemirror_mode": {
    "name": "ipython",
    "version": 3
   },
   "file_extension": ".py",
   "mimetype": "text/x-python",
   "name": "python",
   "nbconvert_exporter": "python",
   "pygments_lexer": "ipython3",
   "version": "3.6.5"
  }
 },
 "nbformat": 4,
 "nbformat_minor": 2
}
